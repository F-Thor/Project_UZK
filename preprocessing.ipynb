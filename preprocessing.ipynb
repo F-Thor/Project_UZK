{
 "cells": [
  {
   "cell_type": "code",
   "execution_count": 2,
   "id": "1e45679a",
   "metadata": {},
   "outputs": [],
   "source": [
    "import numpy as np\n",
    "import pandas as pd\n",
    "import matplotlib.pyplot as plt\n",
    "import os"
   ]
  },
  {
   "cell_type": "markdown",
   "id": "6371542f",
   "metadata": {
    "heading_collapsed": true
   },
   "source": [
    "# Scaling data"
   ]
  },
  {
   "cell_type": "code",
   "execution_count": 3,
   "id": "major-assets",
   "metadata": {
    "hidden": true
   },
   "outputs": [],
   "source": [
    "for i in range(1,1279):\n",
    "    m=np.load('data_npz\\\\'+str(i)+'.npy')\n",
    "    p_out='data_npy_norm\\\\'+str(i)\n",
    "    np.save(p_out,arr=m/np.abs(m).max())"
   ]
  },
  {
   "cell_type": "markdown",
   "id": "dying-testament",
   "metadata": {
    "heading_collapsed": true
   },
   "source": [
    "# Fill NA target\n",
    "\n",
    "#Если брать за таргет время нужно заполнять неразмеченые значения, в данном случае мы интерпалирк=уем и екстрапалируем значения с помощью инпутера Scikit-Lern."
   ]
  },
  {
   "cell_type": "code",
   "execution_count": 2,
   "id": "1a1fc73f",
   "metadata": {
    "hidden": true
   },
   "outputs": [],
   "source": [
    "lable=pd.read_csv('target.csv',sep=';',names=[1,2,3,4,5,6,7],index_col=0).astype('float')"
   ]
  },
  {
   "cell_type": "code",
   "execution_count": 3,
   "id": "db703a5a",
   "metadata": {
    "hidden": true
   },
   "outputs": [],
   "source": [
    "for i in  lable.columns:\n",
    "    lable[lable[[i]]==0]=np.nan"
   ]
  },
  {
   "cell_type": "code",
   "execution_count": 18,
   "id": "8866605e",
   "metadata": {
    "hidden": true
   },
   "outputs": [
    {
     "name": "stderr",
     "output_type": "stream",
     "text": [
      "D:\\Anaconda\\lib\\site-packages\\sklearn\\svm\\_base.py:986: ConvergenceWarning: Liblinear failed to converge, increase the number of iterations.\n",
      "  \"the number of iterations.\", ConvergenceWarning)\n",
      "D:\\Anaconda\\lib\\site-packages\\sklearn\\svm\\_base.py:986: ConvergenceWarning: Liblinear failed to converge, increase the number of iterations.\n",
      "  \"the number of iterations.\", ConvergenceWarning)\n",
      "D:\\Anaconda\\lib\\site-packages\\sklearn\\svm\\_base.py:986: ConvergenceWarning: Liblinear failed to converge, increase the number of iterations.\n",
      "  \"the number of iterations.\", ConvergenceWarning)\n",
      "D:\\Anaconda\\lib\\site-packages\\sklearn\\svm\\_base.py:986: ConvergenceWarning: Liblinear failed to converge, increase the number of iterations.\n",
      "  \"the number of iterations.\", ConvergenceWarning)\n",
      "D:\\Anaconda\\lib\\site-packages\\sklearn\\svm\\_base.py:986: ConvergenceWarning: Liblinear failed to converge, increase the number of iterations.\n",
      "  \"the number of iterations.\", ConvergenceWarning)\n",
      "D:\\Anaconda\\lib\\site-packages\\sklearn\\svm\\_base.py:986: ConvergenceWarning: Liblinear failed to converge, increase the number of iterations.\n",
      "  \"the number of iterations.\", ConvergenceWarning)\n",
      "D:\\Anaconda\\lib\\site-packages\\sklearn\\svm\\_base.py:986: ConvergenceWarning: Liblinear failed to converge, increase the number of iterations.\n",
      "  \"the number of iterations.\", ConvergenceWarning)\n",
      "D:\\Anaconda\\lib\\site-packages\\sklearn\\svm\\_base.py:986: ConvergenceWarning: Liblinear failed to converge, increase the number of iterations.\n",
      "  \"the number of iterations.\", ConvergenceWarning)\n",
      "D:\\Anaconda\\lib\\site-packages\\sklearn\\svm\\_base.py:986: ConvergenceWarning: Liblinear failed to converge, increase the number of iterations.\n",
      "  \"the number of iterations.\", ConvergenceWarning)\n",
      "D:\\Anaconda\\lib\\site-packages\\sklearn\\svm\\_base.py:986: ConvergenceWarning: Liblinear failed to converge, increase the number of iterations.\n",
      "  \"the number of iterations.\", ConvergenceWarning)\n",
      "D:\\Anaconda\\lib\\site-packages\\sklearn\\svm\\_base.py:986: ConvergenceWarning: Liblinear failed to converge, increase the number of iterations.\n",
      "  \"the number of iterations.\", ConvergenceWarning)\n",
      "D:\\Anaconda\\lib\\site-packages\\sklearn\\svm\\_base.py:986: ConvergenceWarning: Liblinear failed to converge, increase the number of iterations.\n",
      "  \"the number of iterations.\", ConvergenceWarning)\n",
      "D:\\Anaconda\\lib\\site-packages\\sklearn\\svm\\_base.py:986: ConvergenceWarning: Liblinear failed to converge, increase the number of iterations.\n",
      "  \"the number of iterations.\", ConvergenceWarning)\n",
      "D:\\Anaconda\\lib\\site-packages\\sklearn\\svm\\_base.py:986: ConvergenceWarning: Liblinear failed to converge, increase the number of iterations.\n",
      "  \"the number of iterations.\", ConvergenceWarning)\n",
      "D:\\Anaconda\\lib\\site-packages\\sklearn\\svm\\_base.py:986: ConvergenceWarning: Liblinear failed to converge, increase the number of iterations.\n",
      "  \"the number of iterations.\", ConvergenceWarning)\n",
      "D:\\Anaconda\\lib\\site-packages\\sklearn\\svm\\_base.py:986: ConvergenceWarning: Liblinear failed to converge, increase the number of iterations.\n",
      "  \"the number of iterations.\", ConvergenceWarning)\n",
      "D:\\Anaconda\\lib\\site-packages\\sklearn\\svm\\_base.py:986: ConvergenceWarning: Liblinear failed to converge, increase the number of iterations.\n",
      "  \"the number of iterations.\", ConvergenceWarning)\n",
      "D:\\Anaconda\\lib\\site-packages\\sklearn\\svm\\_base.py:986: ConvergenceWarning: Liblinear failed to converge, increase the number of iterations.\n",
      "  \"the number of iterations.\", ConvergenceWarning)\n",
      "D:\\Anaconda\\lib\\site-packages\\sklearn\\svm\\_base.py:986: ConvergenceWarning: Liblinear failed to converge, increase the number of iterations.\n",
      "  \"the number of iterations.\", ConvergenceWarning)\n",
      "D:\\Anaconda\\lib\\site-packages\\sklearn\\svm\\_base.py:986: ConvergenceWarning: Liblinear failed to converge, increase the number of iterations.\n",
      "  \"the number of iterations.\", ConvergenceWarning)\n",
      "D:\\Anaconda\\lib\\site-packages\\sklearn\\svm\\_base.py:986: ConvergenceWarning: Liblinear failed to converge, increase the number of iterations.\n",
      "  \"the number of iterations.\", ConvergenceWarning)\n",
      "D:\\Anaconda\\lib\\site-packages\\sklearn\\svm\\_base.py:986: ConvergenceWarning: Liblinear failed to converge, increase the number of iterations.\n",
      "  \"the number of iterations.\", ConvergenceWarning)\n",
      "D:\\Anaconda\\lib\\site-packages\\sklearn\\svm\\_base.py:986: ConvergenceWarning: Liblinear failed to converge, increase the number of iterations.\n",
      "  \"the number of iterations.\", ConvergenceWarning)\n",
      "D:\\Anaconda\\lib\\site-packages\\sklearn\\svm\\_base.py:986: ConvergenceWarning: Liblinear failed to converge, increase the number of iterations.\n",
      "  \"the number of iterations.\", ConvergenceWarning)\n",
      "D:\\Anaconda\\lib\\site-packages\\sklearn\\svm\\_base.py:986: ConvergenceWarning: Liblinear failed to converge, increase the number of iterations.\n",
      "  \"the number of iterations.\", ConvergenceWarning)\n",
      "D:\\Anaconda\\lib\\site-packages\\sklearn\\svm\\_base.py:986: ConvergenceWarning: Liblinear failed to converge, increase the number of iterations.\n",
      "  \"the number of iterations.\", ConvergenceWarning)\n",
      "D:\\Anaconda\\lib\\site-packages\\sklearn\\svm\\_base.py:986: ConvergenceWarning: Liblinear failed to converge, increase the number of iterations.\n",
      "  \"the number of iterations.\", ConvergenceWarning)\n",
      "D:\\Anaconda\\lib\\site-packages\\sklearn\\svm\\_base.py:986: ConvergenceWarning: Liblinear failed to converge, increase the number of iterations.\n",
      "  \"the number of iterations.\", ConvergenceWarning)\n",
      "D:\\Anaconda\\lib\\site-packages\\sklearn\\svm\\_base.py:986: ConvergenceWarning: Liblinear failed to converge, increase the number of iterations.\n",
      "  \"the number of iterations.\", ConvergenceWarning)\n",
      "D:\\Anaconda\\lib\\site-packages\\sklearn\\svm\\_base.py:986: ConvergenceWarning: Liblinear failed to converge, increase the number of iterations.\n",
      "  \"the number of iterations.\", ConvergenceWarning)\n",
      "D:\\Anaconda\\lib\\site-packages\\sklearn\\svm\\_base.py:986: ConvergenceWarning: Liblinear failed to converge, increase the number of iterations.\n",
      "  \"the number of iterations.\", ConvergenceWarning)\n",
      "D:\\Anaconda\\lib\\site-packages\\sklearn\\svm\\_base.py:986: ConvergenceWarning: Liblinear failed to converge, increase the number of iterations.\n",
      "  \"the number of iterations.\", ConvergenceWarning)\n",
      "D:\\Anaconda\\lib\\site-packages\\sklearn\\svm\\_base.py:986: ConvergenceWarning: Liblinear failed to converge, increase the number of iterations.\n",
      "  \"the number of iterations.\", ConvergenceWarning)\n",
      "D:\\Anaconda\\lib\\site-packages\\sklearn\\svm\\_base.py:986: ConvergenceWarning: Liblinear failed to converge, increase the number of iterations.\n",
      "  \"the number of iterations.\", ConvergenceWarning)\n",
      "D:\\Anaconda\\lib\\site-packages\\sklearn\\svm\\_base.py:986: ConvergenceWarning: Liblinear failed to converge, increase the number of iterations.\n",
      "  \"the number of iterations.\", ConvergenceWarning)\n",
      "D:\\Anaconda\\lib\\site-packages\\sklearn\\svm\\_base.py:986: ConvergenceWarning: Liblinear failed to converge, increase the number of iterations.\n",
      "  \"the number of iterations.\", ConvergenceWarning)\n",
      "D:\\Anaconda\\lib\\site-packages\\sklearn\\svm\\_base.py:986: ConvergenceWarning: Liblinear failed to converge, increase the number of iterations.\n",
      "  \"the number of iterations.\", ConvergenceWarning)\n",
      "D:\\Anaconda\\lib\\site-packages\\sklearn\\svm\\_base.py:986: ConvergenceWarning: Liblinear failed to converge, increase the number of iterations.\n",
      "  \"the number of iterations.\", ConvergenceWarning)\n",
      "D:\\Anaconda\\lib\\site-packages\\sklearn\\svm\\_base.py:986: ConvergenceWarning: Liblinear failed to converge, increase the number of iterations.\n",
      "  \"the number of iterations.\", ConvergenceWarning)\n",
      "D:\\Anaconda\\lib\\site-packages\\sklearn\\svm\\_base.py:986: ConvergenceWarning: Liblinear failed to converge, increase the number of iterations.\n",
      "  \"the number of iterations.\", ConvergenceWarning)\n",
      "D:\\Anaconda\\lib\\site-packages\\sklearn\\svm\\_base.py:986: ConvergenceWarning: Liblinear failed to converge, increase the number of iterations.\n",
      "  \"the number of iterations.\", ConvergenceWarning)\n",
      "D:\\Anaconda\\lib\\site-packages\\sklearn\\svm\\_base.py:986: ConvergenceWarning: Liblinear failed to converge, increase the number of iterations.\n",
      "  \"the number of iterations.\", ConvergenceWarning)\n",
      "D:\\Anaconda\\lib\\site-packages\\sklearn\\svm\\_base.py:986: ConvergenceWarning: Liblinear failed to converge, increase the number of iterations.\n",
      "  \"the number of iterations.\", ConvergenceWarning)\n"
     ]
    },
    {
     "name": "stderr",
     "output_type": "stream",
     "text": [
      "D:\\Anaconda\\lib\\site-packages\\sklearn\\svm\\_base.py:986: ConvergenceWarning: Liblinear failed to converge, increase the number of iterations.\n",
      "  \"the number of iterations.\", ConvergenceWarning)\n",
      "D:\\Anaconda\\lib\\site-packages\\sklearn\\svm\\_base.py:986: ConvergenceWarning: Liblinear failed to converge, increase the number of iterations.\n",
      "  \"the number of iterations.\", ConvergenceWarning)\n",
      "D:\\Anaconda\\lib\\site-packages\\sklearn\\svm\\_base.py:986: ConvergenceWarning: Liblinear failed to converge, increase the number of iterations.\n",
      "  \"the number of iterations.\", ConvergenceWarning)\n",
      "D:\\Anaconda\\lib\\site-packages\\sklearn\\svm\\_base.py:986: ConvergenceWarning: Liblinear failed to converge, increase the number of iterations.\n",
      "  \"the number of iterations.\", ConvergenceWarning)\n",
      "D:\\Anaconda\\lib\\site-packages\\sklearn\\svm\\_base.py:986: ConvergenceWarning: Liblinear failed to converge, increase the number of iterations.\n",
      "  \"the number of iterations.\", ConvergenceWarning)\n",
      "D:\\Anaconda\\lib\\site-packages\\sklearn\\svm\\_base.py:986: ConvergenceWarning: Liblinear failed to converge, increase the number of iterations.\n",
      "  \"the number of iterations.\", ConvergenceWarning)\n",
      "D:\\Anaconda\\lib\\site-packages\\sklearn\\svm\\_base.py:986: ConvergenceWarning: Liblinear failed to converge, increase the number of iterations.\n",
      "  \"the number of iterations.\", ConvergenceWarning)\n",
      "D:\\Anaconda\\lib\\site-packages\\sklearn\\svm\\_base.py:986: ConvergenceWarning: Liblinear failed to converge, increase the number of iterations.\n",
      "  \"the number of iterations.\", ConvergenceWarning)\n",
      "D:\\Anaconda\\lib\\site-packages\\sklearn\\svm\\_base.py:986: ConvergenceWarning: Liblinear failed to converge, increase the number of iterations.\n",
      "  \"the number of iterations.\", ConvergenceWarning)\n",
      "D:\\Anaconda\\lib\\site-packages\\sklearn\\svm\\_base.py:986: ConvergenceWarning: Liblinear failed to converge, increase the number of iterations.\n",
      "  \"the number of iterations.\", ConvergenceWarning)\n",
      "D:\\Anaconda\\lib\\site-packages\\sklearn\\svm\\_base.py:986: ConvergenceWarning: Liblinear failed to converge, increase the number of iterations.\n",
      "  \"the number of iterations.\", ConvergenceWarning)\n",
      "D:\\Anaconda\\lib\\site-packages\\sklearn\\svm\\_base.py:986: ConvergenceWarning: Liblinear failed to converge, increase the number of iterations.\n",
      "  \"the number of iterations.\", ConvergenceWarning)\n",
      "D:\\Anaconda\\lib\\site-packages\\sklearn\\svm\\_base.py:986: ConvergenceWarning: Liblinear failed to converge, increase the number of iterations.\n",
      "  \"the number of iterations.\", ConvergenceWarning)\n",
      "D:\\Anaconda\\lib\\site-packages\\sklearn\\svm\\_base.py:986: ConvergenceWarning: Liblinear failed to converge, increase the number of iterations.\n",
      "  \"the number of iterations.\", ConvergenceWarning)\n",
      "D:\\Anaconda\\lib\\site-packages\\sklearn\\svm\\_base.py:986: ConvergenceWarning: Liblinear failed to converge, increase the number of iterations.\n",
      "  \"the number of iterations.\", ConvergenceWarning)\n",
      "D:\\Anaconda\\lib\\site-packages\\sklearn\\svm\\_base.py:986: ConvergenceWarning: Liblinear failed to converge, increase the number of iterations.\n",
      "  \"the number of iterations.\", ConvergenceWarning)\n",
      "D:\\Anaconda\\lib\\site-packages\\sklearn\\svm\\_base.py:986: ConvergenceWarning: Liblinear failed to converge, increase the number of iterations.\n",
      "  \"the number of iterations.\", ConvergenceWarning)\n",
      "D:\\Anaconda\\lib\\site-packages\\sklearn\\svm\\_base.py:986: ConvergenceWarning: Liblinear failed to converge, increase the number of iterations.\n",
      "  \"the number of iterations.\", ConvergenceWarning)\n",
      "D:\\Anaconda\\lib\\site-packages\\sklearn\\svm\\_base.py:986: ConvergenceWarning: Liblinear failed to converge, increase the number of iterations.\n",
      "  \"the number of iterations.\", ConvergenceWarning)\n",
      "D:\\Anaconda\\lib\\site-packages\\sklearn\\svm\\_base.py:986: ConvergenceWarning: Liblinear failed to converge, increase the number of iterations.\n",
      "  \"the number of iterations.\", ConvergenceWarning)\n",
      "D:\\Anaconda\\lib\\site-packages\\sklearn\\svm\\_base.py:986: ConvergenceWarning: Liblinear failed to converge, increase the number of iterations.\n",
      "  \"the number of iterations.\", ConvergenceWarning)\n",
      "D:\\Anaconda\\lib\\site-packages\\sklearn\\svm\\_base.py:986: ConvergenceWarning: Liblinear failed to converge, increase the number of iterations.\n",
      "  \"the number of iterations.\", ConvergenceWarning)\n",
      "D:\\Anaconda\\lib\\site-packages\\sklearn\\svm\\_base.py:986: ConvergenceWarning: Liblinear failed to converge, increase the number of iterations.\n",
      "  \"the number of iterations.\", ConvergenceWarning)\n",
      "D:\\Anaconda\\lib\\site-packages\\sklearn\\svm\\_base.py:986: ConvergenceWarning: Liblinear failed to converge, increase the number of iterations.\n",
      "  \"the number of iterations.\", ConvergenceWarning)\n",
      "D:\\Anaconda\\lib\\site-packages\\sklearn\\svm\\_base.py:986: ConvergenceWarning: Liblinear failed to converge, increase the number of iterations.\n",
      "  \"the number of iterations.\", ConvergenceWarning)\n",
      "D:\\Anaconda\\lib\\site-packages\\sklearn\\svm\\_base.py:986: ConvergenceWarning: Liblinear failed to converge, increase the number of iterations.\n",
      "  \"the number of iterations.\", ConvergenceWarning)\n",
      "D:\\Anaconda\\lib\\site-packages\\sklearn\\svm\\_base.py:986: ConvergenceWarning: Liblinear failed to converge, increase the number of iterations.\n",
      "  \"the number of iterations.\", ConvergenceWarning)\n",
      "D:\\Anaconda\\lib\\site-packages\\sklearn\\impute\\_iterative.py:686: ConvergenceWarning: [IterativeImputer] Early stopping criterion not reached.\n",
      "  \" reached.\", ConvergenceWarning)\n"
     ]
    }
   ],
   "source": [
    "from sklearn.experimental import enable_iterative_imputer\n",
    "from sklearn.svm import LinearSVR\n",
    "from sklearn.neighbors import NearestNeighbors\n",
    "imp_mean = IterativeImputer(estimator=LinearSVR(max_iter=100000))\n",
    "imp_mean.fit(lable)\n",
    "lable_fill=imp_mean.transform(lable)"
   ]
  },
  {
   "cell_type": "code",
   "execution_count": 19,
   "id": "1990e32c",
   "metadata": {
    "hidden": true
   },
   "outputs": [
    {
     "data": {
      "text/plain": [
       "(             0         1         2         3           4           5  \\\n",
       " 0     39.07613  65.12689  87.16985  280.0457  305.354308  342.276045   \n",
       " 1     42.08199  66.12885  87.16985  183.3572  207.541025  235.980420   \n",
       " 2     44.08590  64.62592  97.18936  115.2245  135.263500  160.312300   \n",
       " 3     31.38409  76.97585  84.16399  111.2167  170.331900  191.372900   \n",
       " 4     40.57906  62.12103  84.66496  113.7216  140.774300  167.326000   \n",
       " ...        ...       ...       ...       ...         ...         ...   \n",
       " 1273  39.57711  61.11908  82.66106  114.2225  136.265500  161.314300   \n",
       " 1274  37.07223  59.11518  82.66106  105.2050  129.251800  151.795800   \n",
       " 1275  36.07028  59.61616  82.66106  104.7040  127.748900  152.296700   \n",
       " 1276  37.57321  62.62201  87.16985  110.2147  131.756700  157.807500   \n",
       " 1277  39.57711  66.62982  88.17180  111.2167  134.762600  159.310400   \n",
       " \n",
       "                6  \n",
       " 0     387.681102  \n",
       " 1     268.145860  \n",
       " 2     182.856300  \n",
       " 3     216.421700  \n",
       " 4     181.854300  \n",
       " ...          ...  \n",
       " 1273  182.856300  \n",
       " 1274  174.840700  \n",
       " 1275  174.840700  \n",
       " 1276  184.359200  \n",
       " 1277  183.858200  \n",
       " \n",
       " [1278 rows x 7 columns],\n",
       "              1         2         3         4         5         6         7\n",
       " 1     39.07613  65.12689  87.16985  280.0457       NaN       NaN       NaN\n",
       " 2     42.08199  66.12885  87.16985  183.3572       NaN       NaN       NaN\n",
       " 3     44.08590  64.62592  97.18936  115.2245  135.2635  160.3123  182.8563\n",
       " 4     31.38409  76.97585  84.16399  111.2167  170.3319  191.3729  216.4217\n",
       " 5     40.57906  62.12103  84.66496  113.7216  140.7743  167.3260  181.8543\n",
       " ...        ...       ...       ...       ...       ...       ...       ...\n",
       " 1274  39.57711  61.11908  82.66106  114.2225  136.2655  161.3143  182.8563\n",
       " 1275  37.07223  59.11518  82.66106  105.2050  129.2518  151.7958  174.8407\n",
       " 1276  36.07028  59.61616  82.66106  104.7040  127.7489  152.2967  174.8407\n",
       " 1277  37.57321  62.62201  87.16985  110.2147  131.7567  157.8075  184.3592\n",
       " 1278  39.57711  66.62982  88.17180  111.2167  134.7626  159.3104  183.8582\n",
       " \n",
       " [1278 rows x 7 columns])"
      ]
     },
     "execution_count": 19,
     "metadata": {},
     "output_type": "execute_result"
    }
   ],
   "source": [
    "pd.DataFrame(lable_fill),lable"
   ]
  },
  {
   "cell_type": "code",
   "execution_count": 22,
   "id": "8ccf5bf9",
   "metadata": {
    "hidden": true
   },
   "outputs": [],
   "source": [
    "pd.DataFrame(lable_fill,columns=[1,2,3,4,5,6,7]).to_csv('inputed_target.csv',index=False)"
   ]
  },
  {
   "cell_type": "markdown",
   "id": "e75069d3",
   "metadata": {
    "heading_collapsed": true
   },
   "source": [
    "# Step_imlementation:\n",
    "\n",
    "#Добавляем к данным значения расстояния между датчиками."
   ]
  },
  {
   "cell_type": "code",
   "execution_count": 4,
   "id": "eb4805b3",
   "metadata": {
    "hidden": true
   },
   "outputs": [],
   "source": [
    "step=[10 for i in range(1,1279)]"
   ]
  },
  {
   "cell_type": "code",
   "execution_count": 35,
   "id": "d772bf41",
   "metadata": {
    "hidden": true
   },
   "outputs": [],
   "source": [
    "m=np.load('data_npz\\\\268.npy')"
   ]
  },
  {
   "cell_type": "code",
   "execution_count": 51,
   "id": "874797cd",
   "metadata": {
    "hidden": true
   },
   "outputs": [
    {
     "data": {
      "text/plain": [
       "array([[  10.,    7.,    6., ...,  -10.,   -7.,    2.],\n",
       "       [  10.,   -2.,   -3., ..., -318., -314., -309.],\n",
       "       [  10.,   -4.,   -1., ..., -287., -288., -292.],\n",
       "       ...,\n",
       "       [  10.,    9.,   11., ..., -452., -463., -477.],\n",
       "       [  10.,    0.,    0., ...,    0.,    0.,    0.],\n",
       "       [  10.,    0.,    0., ...,    0.,    0.,    0.]])"
      ]
     },
     "execution_count": 51,
     "metadata": {},
     "output_type": "execute_result"
    }
   ],
   "source": [
    "np.insert(m, 0, 10, axis=1)"
   ]
  },
  {
   "cell_type": "code",
   "execution_count": 5,
   "id": "0077d36d",
   "metadata": {
    "hidden": true
   },
   "outputs": [],
   "source": [
    "cm_5=[349,350,361,362,365,366,445,446,1105,1106]"
   ]
  },
  {
   "cell_type": "code",
   "execution_count": 6,
   "id": "d7255a6f",
   "metadata": {
    "hidden": true
   },
   "outputs": [],
   "source": [
    "for i in cm_5:\n",
    "    step[i-1]=5\n",
    "l=[i/100 for i in  step]"
   ]
  },
  {
   "cell_type": "code",
   "execution_count": 7,
   "id": "539b4d49",
   "metadata": {
    "hidden": true
   },
   "outputs": [],
   "source": [
    "for i in range(1,1279):\n",
    "    p_in='data_npy_norm\\\\'+str(i)+'.npy'\n",
    "    p_out='data_npy_norm_step\\\\'+str(i)\n",
    "    m=np.load(p_in)\n",
    "    lenght=[k*l[i-1] for k in range(7)]\n",
    "    np.save(p_out,arr=np.insert(m, 0, lenght, axis=1))"
   ]
  },
  {
   "cell_type": "code",
   "execution_count": null,
   "id": "df21fe63",
   "metadata": {
    "hidden": true
   },
   "outputs": [],
   "source": []
  },
  {
   "cell_type": "markdown",
   "id": "e4dd3b99",
   "metadata": {
    "heading_collapsed": true
   },
   "source": [
    "# Velosity Target\n",
    "\n",
    "#Создаем таргет файл со скоростями упругих волн между датчиками."
   ]
  },
  {
   "cell_type": "code",
   "execution_count": 10,
   "id": "4b31ac0c",
   "metadata": {
    "hidden": true
   },
   "outputs": [],
   "source": [
    "def velocity(arr,lenght):\n",
    "    rezult=[]\n",
    "    for i in range(len(arr)-1):\n",
    "        if arr[i]!=0 and arr[i+1]!=0:\n",
    "            rezult.append(lenght*1000/(arr[i+1]-arr[i]))\n",
    "        else:\n",
    "            rezult.append(rezult[-1])\n",
    "    return rezult"
   ]
  },
  {
   "cell_type": "code",
   "execution_count": 8,
   "id": "59718a71",
   "metadata": {
    "hidden": true
   },
   "outputs": [],
   "source": [
    "lable=pd.read_csv('target.csv',sep=';',names=[1,2,3,4,5,6,7],index_col=0).astype('float')"
   ]
  },
  {
   "cell_type": "code",
   "execution_count": 18,
   "id": "9f492914",
   "metadata": {
    "hidden": true
   },
   "outputs": [],
   "source": [
    "target_velocity=pd.DataFrame()\n",
    "for i in lable.index:\n",
    "    vel=pd.Series(velocity(lable.loc[i,:].values,l[i-1]))\n",
    "    target_velocity=target_velocity.append(vel.T,ignore_index=True)"
   ]
  },
  {
   "cell_type": "code",
   "execution_count": 21,
   "id": "911f9390",
   "metadata": {
    "hidden": true
   },
   "outputs": [],
   "source": [
    "target_velocity.to_csv('velotar.csv', index=False)"
   ]
  },
  {
   "cell_type": "code",
   "execution_count": 22,
   "id": "f7820c16",
   "metadata": {
    "hidden": true
   },
   "outputs": [],
   "source": [
    "lable=pd.read_csv('velotar.csv')\n",
    "tlable=lable.shift(1).reindex([i for i in range(1,1279)])\n",
    "tlable.iloc[-1,:]=lable.iloc[-1,:]\n"
   ]
  },
  {
   "cell_type": "code",
   "execution_count": 26,
   "id": "f9b462a7",
   "metadata": {
    "hidden": true,
    "scrolled": true
   },
   "outputs": [
    {
     "data": {
      "text/html": [
       "<div>\n",
       "<style scoped>\n",
       "    .dataframe tbody tr th:only-of-type {\n",
       "        vertical-align: middle;\n",
       "    }\n",
       "\n",
       "    .dataframe tbody tr th {\n",
       "        vertical-align: top;\n",
       "    }\n",
       "\n",
       "    .dataframe thead th {\n",
       "        text-align: right;\n",
       "    }\n",
       "</style>\n",
       "<table border=\"1\" class=\"dataframe\">\n",
       "  <thead>\n",
       "    <tr style=\"text-align: right;\">\n",
       "      <th></th>\n",
       "      <th>0</th>\n",
       "      <th>1</th>\n",
       "      <th>2</th>\n",
       "      <th>3</th>\n",
       "      <th>4</th>\n",
       "      <th>5</th>\n",
       "    </tr>\n",
       "  </thead>\n",
       "  <tbody>\n",
       "    <tr>\n",
       "      <th>1</th>\n",
       "      <td>3.838660</td>\n",
       "      <td>4.536596</td>\n",
       "      <td>0.518468</td>\n",
       "      <td>0.518468</td>\n",
       "      <td>0.518468</td>\n",
       "      <td>0.518468</td>\n",
       "    </tr>\n",
       "    <tr>\n",
       "      <th>2</th>\n",
       "      <td>4.158547</td>\n",
       "      <td>4.752626</td>\n",
       "      <td>1.039638</td>\n",
       "      <td>1.039638</td>\n",
       "      <td>1.039638</td>\n",
       "      <td>1.039638</td>\n",
       "    </tr>\n",
       "    <tr>\n",
       "      <th>3</th>\n",
       "      <td>4.868544</td>\n",
       "      <td>3.070929</td>\n",
       "      <td>5.544731</td>\n",
       "      <td>4.990269</td>\n",
       "      <td>3.992207</td>\n",
       "      <td>4.435770</td>\n",
       "    </tr>\n",
       "    <tr>\n",
       "      <th>4</th>\n",
       "      <td>2.193379</td>\n",
       "      <td>13.911805</td>\n",
       "      <td>3.696487</td>\n",
       "      <td>1.691612</td>\n",
       "      <td>4.752626</td>\n",
       "      <td>3.992207</td>\n",
       "    </tr>\n",
       "    <tr>\n",
       "      <th>5</th>\n",
       "      <td>4.642101</td>\n",
       "      <td>4.435784</td>\n",
       "      <td>3.441554</td>\n",
       "      <td>3.696489</td>\n",
       "      <td>3.766237</td>\n",
       "      <td>6.883118</td>\n",
       "    </tr>\n",
       "    <tr>\n",
       "      <th>...</th>\n",
       "      <td>...</td>\n",
       "      <td>...</td>\n",
       "      <td>...</td>\n",
       "      <td>...</td>\n",
       "      <td>...</td>\n",
       "      <td>...</td>\n",
       "    </tr>\n",
       "    <tr>\n",
       "      <th>1274</th>\n",
       "      <td>4.642101</td>\n",
       "      <td>4.642099</td>\n",
       "      <td>3.168423</td>\n",
       "      <td>4.536588</td>\n",
       "      <td>3.992207</td>\n",
       "      <td>4.642095</td>\n",
       "    </tr>\n",
       "    <tr>\n",
       "      <th>1275</th>\n",
       "      <td>4.536598</td>\n",
       "      <td>4.247028</td>\n",
       "      <td>4.435782</td>\n",
       "      <td>4.158557</td>\n",
       "      <td>4.435770</td>\n",
       "      <td>4.339355</td>\n",
       "    </tr>\n",
       "    <tr>\n",
       "      <th>1276</th>\n",
       "      <td>4.247028</td>\n",
       "      <td>4.339355</td>\n",
       "      <td>4.536600</td>\n",
       "      <td>4.339355</td>\n",
       "      <td>4.073685</td>\n",
       "      <td>4.435770</td>\n",
       "    </tr>\n",
       "    <tr>\n",
       "      <th>1277</th>\n",
       "      <td>3.992207</td>\n",
       "      <td>4.073678</td>\n",
       "      <td>4.339364</td>\n",
       "      <td>4.642095</td>\n",
       "      <td>3.838654</td>\n",
       "      <td>3.766237</td>\n",
       "    </tr>\n",
       "    <tr>\n",
       "      <th>1278</th>\n",
       "      <td>3.696487</td>\n",
       "      <td>4.642099</td>\n",
       "      <td>4.339355</td>\n",
       "      <td>4.247024</td>\n",
       "      <td>4.073685</td>\n",
       "      <td>4.073685</td>\n",
       "    </tr>\n",
       "  </tbody>\n",
       "</table>\n",
       "<p>1278 rows × 6 columns</p>\n",
       "</div>"
      ],
      "text/plain": [
       "             0          1         2         3         4         5\n",
       "1     3.838660   4.536596  0.518468  0.518468  0.518468  0.518468\n",
       "2     4.158547   4.752626  1.039638  1.039638  1.039638  1.039638\n",
       "3     4.868544   3.070929  5.544731  4.990269  3.992207  4.435770\n",
       "4     2.193379  13.911805  3.696487  1.691612  4.752626  3.992207\n",
       "5     4.642101   4.435784  3.441554  3.696489  3.766237  6.883118\n",
       "...        ...        ...       ...       ...       ...       ...\n",
       "1274  4.642101   4.642099  3.168423  4.536588  3.992207  4.642095\n",
       "1275  4.536598   4.247028  4.435782  4.158557  4.435770  4.339355\n",
       "1276  4.247028   4.339355  4.536600  4.339355  4.073685  4.435770\n",
       "1277  3.992207   4.073678  4.339364  4.642095  3.838654  3.766237\n",
       "1278  3.696487   4.642099  4.339355  4.247024  4.073685  4.073685\n",
       "\n",
       "[1278 rows x 6 columns]"
      ]
     },
     "execution_count": 26,
     "metadata": {},
     "output_type": "execute_result"
    }
   ],
   "source": [
    "tlable"
   ]
  },
  {
   "cell_type": "markdown",
   "id": "caa331ca",
   "metadata": {
    "heading_collapsed": true
   },
   "source": [
    "# Spectr & FFT\n",
    "#Рассчитываем дополнительные данные(Спектр сигнала) с помощью быстрого приобразования Фурье."
   ]
  },
  {
   "cell_type": "code",
   "execution_count": 18,
   "id": "7c6fa7d0",
   "metadata": {
    "hidden": true
   },
   "outputs": [],
   "source": [
    "def plot_sgrams(data,xaxis):\n",
    "    fig, ax = plt.subplots(nrows=7, figsize=(15, 10))\n",
    "    \n",
    "    ax[0].plot(xaxis,data[0])\n",
    "    ax[0].set_ylabel('1')\n",
    "\n",
    "\n",
    "    ax[1].plot(xaxis,data[1])\n",
    "    ax[1].set_ylabel('2')\n",
    "\n",
    "    ax[2].plot(xaxis,data[2])\n",
    "    ax[2].set_ylabel('3')\n",
    "\n",
    "    ax[3].plot(xaxis,data[3])\n",
    "    ax[3].set_ylabel('4')\n",
    "\n",
    "    ax[4].plot(xaxis,data[4])\n",
    "    ax[4].set_ylabel('5')\n",
    "\n",
    "    ax[5].plot(xaxis,data[5])\n",
    "    ax[5].set_ylabel('6')\n",
    "\n",
    "    ax[6].plot(xaxis,data[6])\n",
    "    ax[6].set_ylabel('7')\n",
    "\n",
    "    for a in ax:\n",
    "        a.spines['right'].set_visible(False)\n",
    "        a.spines['top'].set_visible(False)\n",
    "        a.spines['bottom'].set_visible(False)\n",
    "        a.spines['left'].set_visible(False)\n",
    "        a.yaxis.set_ticks_position('right')\n",
    "        a.yaxis.set_visible(True)\n",
    "        a.xaxis.set_ticks_position('bottom')\n",
    "        a.xaxis.set_visible(True)\n",
    "        a.grid(True)\n",
    "\n",
    "    plt.subplots_adjust(hspace=0.3)\n",
    "    plt.show()"
   ]
  },
  {
   "cell_type": "code",
   "execution_count": 99,
   "id": "c458283e",
   "metadata": {
    "hidden": true
   },
   "outputs": [],
   "source": [
    "dfs=pd.DataFrame(np.fft.fft(m,axis=0).T)\n",
    "dfsr=pd.DataFrame(np.real(np.fft.fft(m,axis=0)).T)\n",
    "dfsi=pd.DataFrame(np.imag(np.fft.fft(m,axis=0)).T)\n",
    "timestep=0.00166666\n",
    "n=len(dfsr[1])\n",
    "freq = np.fft.fftfreq(n, d=timestep)\n"
   ]
  },
  {
   "cell_type": "code",
   "execution_count": 100,
   "id": "631f9cb5",
   "metadata": {
    "hidden": true
   },
   "outputs": [
    {
     "data": {
      "text/html": [
       "<div>\n",
       "<style scoped>\n",
       "    .dataframe tbody tr th:only-of-type {\n",
       "        vertical-align: middle;\n",
       "    }\n",
       "\n",
       "    .dataframe tbody tr th {\n",
       "        vertical-align: top;\n",
       "    }\n",
       "\n",
       "    .dataframe thead th {\n",
       "        text-align: right;\n",
       "    }\n",
       "</style>\n",
       "<table border=\"1\" class=\"dataframe\">\n",
       "  <thead>\n",
       "    <tr style=\"text-align: right;\">\n",
       "      <th></th>\n",
       "      <th>0</th>\n",
       "      <th>1</th>\n",
       "      <th>2</th>\n",
       "      <th>3</th>\n",
       "      <th>4</th>\n",
       "      <th>5</th>\n",
       "      <th>6</th>\n",
       "    </tr>\n",
       "  </thead>\n",
       "  <tbody>\n",
       "    <tr>\n",
       "      <th>0</th>\n",
       "      <td>161.0</td>\n",
       "      <td>132.184652</td>\n",
       "      <td>105.324945</td>\n",
       "      <td>56.691038</td>\n",
       "      <td>56.691038</td>\n",
       "      <td>105.324945</td>\n",
       "      <td>132.184652</td>\n",
       "    </tr>\n",
       "    <tr>\n",
       "      <th>1</th>\n",
       "      <td>170.0</td>\n",
       "      <td>138.130060</td>\n",
       "      <td>110.600104</td>\n",
       "      <td>60.421052</td>\n",
       "      <td>60.421052</td>\n",
       "      <td>110.600104</td>\n",
       "      <td>138.130060</td>\n",
       "    </tr>\n",
       "    <tr>\n",
       "      <th>2</th>\n",
       "      <td>185.0</td>\n",
       "      <td>146.011047</td>\n",
       "      <td>117.532525</td>\n",
       "      <td>57.895421</td>\n",
       "      <td>57.895421</td>\n",
       "      <td>117.532525</td>\n",
       "      <td>146.011047</td>\n",
       "    </tr>\n",
       "    <tr>\n",
       "      <th>3</th>\n",
       "      <td>209.0</td>\n",
       "      <td>151.717916</td>\n",
       "      <td>119.559747</td>\n",
       "      <td>59.515888</td>\n",
       "      <td>59.515888</td>\n",
       "      <td>119.559747</td>\n",
       "      <td>151.717916</td>\n",
       "    </tr>\n",
       "    <tr>\n",
       "      <th>4</th>\n",
       "      <td>218.0</td>\n",
       "      <td>162.835234</td>\n",
       "      <td>127.524628</td>\n",
       "      <td>62.905927</td>\n",
       "      <td>62.905927</td>\n",
       "      <td>127.524628</td>\n",
       "      <td>162.835234</td>\n",
       "    </tr>\n",
       "    <tr>\n",
       "      <th>...</th>\n",
       "      <td>...</td>\n",
       "      <td>...</td>\n",
       "      <td>...</td>\n",
       "      <td>...</td>\n",
       "      <td>...</td>\n",
       "      <td>...</td>\n",
       "      <td>...</td>\n",
       "    </tr>\n",
       "    <tr>\n",
       "      <th>4091</th>\n",
       "      <td>33.0</td>\n",
       "      <td>469.246384</td>\n",
       "      <td>259.209238</td>\n",
       "      <td>751.901857</td>\n",
       "      <td>751.901857</td>\n",
       "      <td>259.209238</td>\n",
       "      <td>469.246384</td>\n",
       "    </tr>\n",
       "    <tr>\n",
       "      <th>4092</th>\n",
       "      <td>50.0</td>\n",
       "      <td>453.251781</td>\n",
       "      <td>244.328004</td>\n",
       "      <td>736.504345</td>\n",
       "      <td>736.504345</td>\n",
       "      <td>244.328004</td>\n",
       "      <td>453.251781</td>\n",
       "    </tr>\n",
       "    <tr>\n",
       "      <th>4093</th>\n",
       "      <td>67.0</td>\n",
       "      <td>441.082298</td>\n",
       "      <td>231.810426</td>\n",
       "      <td>729.272468</td>\n",
       "      <td>729.272468</td>\n",
       "      <td>231.810426</td>\n",
       "      <td>441.082298</td>\n",
       "    </tr>\n",
       "    <tr>\n",
       "      <th>4094</th>\n",
       "      <td>81.0</td>\n",
       "      <td>422.840365</td>\n",
       "      <td>212.204289</td>\n",
       "      <td>709.796003</td>\n",
       "      <td>709.796003</td>\n",
       "      <td>212.204289</td>\n",
       "      <td>422.840365</td>\n",
       "    </tr>\n",
       "    <tr>\n",
       "      <th>4095</th>\n",
       "      <td>91.0</td>\n",
       "      <td>406.482119</td>\n",
       "      <td>195.363035</td>\n",
       "      <td>701.282092</td>\n",
       "      <td>701.282092</td>\n",
       "      <td>195.363035</td>\n",
       "      <td>406.482119</td>\n",
       "    </tr>\n",
       "  </tbody>\n",
       "</table>\n",
       "<p>4096 rows × 7 columns</p>\n",
       "</div>"
      ],
      "text/plain": [
       "          0           1           2           3           4           5  \\\n",
       "0     161.0  132.184652  105.324945   56.691038   56.691038  105.324945   \n",
       "1     170.0  138.130060  110.600104   60.421052   60.421052  110.600104   \n",
       "2     185.0  146.011047  117.532525   57.895421   57.895421  117.532525   \n",
       "3     209.0  151.717916  119.559747   59.515888   59.515888  119.559747   \n",
       "4     218.0  162.835234  127.524628   62.905927   62.905927  127.524628   \n",
       "...     ...         ...         ...         ...         ...         ...   \n",
       "4091   33.0  469.246384  259.209238  751.901857  751.901857  259.209238   \n",
       "4092   50.0  453.251781  244.328004  736.504345  736.504345  244.328004   \n",
       "4093   67.0  441.082298  231.810426  729.272468  729.272468  231.810426   \n",
       "4094   81.0  422.840365  212.204289  709.796003  709.796003  212.204289   \n",
       "4095   91.0  406.482119  195.363035  701.282092  701.282092  195.363035   \n",
       "\n",
       "               6  \n",
       "0     132.184652  \n",
       "1     138.130060  \n",
       "2     146.011047  \n",
       "3     151.717916  \n",
       "4     162.835234  \n",
       "...          ...  \n",
       "4091  469.246384  \n",
       "4092  453.251781  \n",
       "4093  441.082298  \n",
       "4094  422.840365  \n",
       "4095  406.482119  \n",
       "\n",
       "[4096 rows x 7 columns]"
      ]
     },
     "execution_count": 100,
     "metadata": {},
     "output_type": "execute_result"
    }
   ],
   "source": [
    "np.abs(dfs)"
   ]
  },
  {
   "cell_type": "code",
   "execution_count": 51,
   "id": "b82c1fdc",
   "metadata": {
    "hidden": true
   },
   "outputs": [
    {
     "data": {
      "image/png": "[encoded data removed]",
      "text/plain": [
       "<Figure size 1080x720 with 7 Axes>"
      ]
     },
     "metadata": {
      "needs_background": "light"
     },
     "output_type": "display_data"
    }
   ],
   "source": [
    "plot_sgrams(dfsi,dfsi.index)"
   ]
  },
  {
   "cell_type": "code",
   "execution_count": 60,
   "id": "15ae505e",
   "metadata": {
    "hidden": true
   },
   "outputs": [
    {
     "data": {
      "text/plain": [
       "[<matplotlib.lines.Line2D at 0x10fcf1a988>]"
      ]
     },
     "execution_count": 60,
     "metadata": {},
     "output_type": "execute_result"
    },
    {
     "data": {
      "image/png": "[encoded data removed]",
      "text/plain": [
       "<Figure size 432x288 with 1 Axes>"
      ]
     },
     "metadata": {
      "needs_background": "light"
     },
     "output_type": "display_data"
    }
   ],
   "source": [
    "plt.plot(dfsr.values.flatten())"
   ]
  },
  {
   "cell_type": "code",
   "execution_count": 62,
   "id": "63b3677b",
   "metadata": {
    "hidden": true
   },
   "outputs": [
    {
     "data": {
      "text/plain": [
       "[<matplotlib.lines.Line2D at 0x10fecb0b48>]"
      ]
     },
     "execution_count": 62,
     "metadata": {},
     "output_type": "execute_result"
    },
    {
     "data": {
      "image/png": "[encoded data removed]",
      "text/plain": [
       "<Figure size 432x288 with 1 Axes>"
      ]
     },
     "metadata": {
      "needs_background": "light"
     },
     "output_type": "display_data"
    }
   ],
   "source": [
    "plt.plot(dfsi.values.flatten())"
   ]
  },
  {
   "cell_type": "code",
   "execution_count": 8,
   "id": "e0db5f4d",
   "metadata": {
    "hidden": true
   },
   "outputs": [],
   "source": [
    "for i in range(1,1279):\n",
    "    m=np.load('data_npz\\\\'+str(i)+'.npy')\n",
    "    mf=np.abs(np.fft.fft(m,axis=0))\n",
    "    norm_mf=mf/np.abs(mf).max()\n",
    "    p_out='spectr_npy_norm\\\\'+str(i)\n",
    "    np.save(p_out,arr=norm_mf)"
   ]
  },
  {
   "cell_type": "markdown",
   "id": "b6a4cad0",
   "metadata": {
    "heading_collapsed": true
   },
   "source": [
    "# Save full data\n",
    "#Сохранение всех предобработаных данных и проверка срезов для подачи в модель"
   ]
  },
  {
   "cell_type": "code",
   "execution_count": 9,
   "id": "bc1c0fe2",
   "metadata": {
    "hidden": true
   },
   "outputs": [],
   "source": [
    "for i in range(1,1279):\n",
    "    m=np.load('data_npy_norm_step\\\\'+str(i)+'.npy')\n",
    "    mf=np.load('spectr_npy_norm\\\\'+str(i)+'.npy')   \n",
    "    p_out='datafull_npy\\\\'+str(i)\n",
    "    np.save(p_out,arr=np.append(m, mf, axis=1))"
   ]
  },
  {
   "cell_type": "code",
   "execution_count": 10,
   "id": "79683e42",
   "metadata": {
    "hidden": true
   },
   "outputs": [],
   "source": [
    "m=np.load('datafull_npy\\\\268.npy') \n",
    "seicmsemple=m[:,1:4097]\n",
    "sprctrsemple=m[:,4097:]\n",
    "lenghtsample=m[:,0]"
   ]
  },
  {
   "cell_type": "code",
   "execution_count": 11,
   "id": "e72f1574",
   "metadata": {
    "hidden": true
   },
   "outputs": [
    {
     "data": {
      "text/plain": [
       "(4096, 7)"
      ]
     },
     "execution_count": 11,
     "metadata": {},
     "output_type": "execute_result"
    }
   ],
   "source": [
    "seicmsemple.shape sprctrsemple.T.shape, lenghtsample.shape"
   ]
  },
  {
   "cell_type": "code",
   "execution_count": null,
   "id": "unnecessary-liverpool",
   "metadata": {
    "hidden": true
   },
   "outputs": [],
   "source": []
  }
 ],
 "metadata": {
  "kernelspec": {
   "display_name": "Python 3",
   "language": "python",
   "name": "python3"
  },
  "language_info": {
   "codemirror_mode": {
    "name": "ipython",
    "version": 3
   },
   "file_extension": ".py",
   "mimetype": "text/x-python",
   "name": "python",
   "nbconvert_exporter": "python",
   "pygments_lexer": "ipython3",
   "version": "3.7.6"
  }
 },
 "nbformat": 4,
 "nbformat_minor": 5
}
